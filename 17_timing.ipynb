{
 "cells": [
  {
   "cell_type": "markdown",
   "id": "0bf66a0b-3db0-441a-82d9-a16e55d09bbf",
   "metadata": {},
   "source": [
    "## 17 Timing\n",
    "Fitting parameters should be provided quicker by the models than a scientist by hand, so here the models are timed on a handful of predictions."
   ]
  },
  {
   "cell_type": "code",
   "execution_count": 1,
   "id": "88039cb2-905f-4067-98b1-f9439e3ee052",
   "metadata": {},
   "outputs": [],
   "source": [
    "import pandas as pd\n",
    "import pickle\n",
    "import xgboost"
   ]
  },
  {
   "cell_type": "code",
   "execution_count": 10,
   "id": "e4b9cada-cde5-479c-a2cc-343f1f295c5c",
   "metadata": {},
   "outputs": [],
   "source": [
    "spectra = pd.read_csv('./training_data/08_test_int_spectra.csv', header=None)"
   ]
  },
  {
   "cell_type": "code",
   "execution_count": 18,
   "id": "52371b17-0445-4329-9bec-5bf97bf28e78",
   "metadata": {},
   "outputs": [
    {
     "name": "stdout",
     "output_type": "stream",
     "text": [
      "209 ms ± 3.43 ms per loop (mean ± std. dev. of 7 runs, 1 loop each)\n"
     ]
    }
   ],
   "source": [
    "%timeit xgb_model = pickle.load(open('13_xgboost.sav', 'rb'))"
   ]
  },
  {
   "cell_type": "code",
   "execution_count": 19,
   "id": "6334d07d-dda2-48a9-a9bc-877ee0ae2095",
   "metadata": {},
   "outputs": [
    {
     "name": "stdout",
     "output_type": "stream",
     "text": [
      "245 ms ± 4.9 ms per loop (mean ± std. dev. of 7 runs, 1 loop each)\n"
     ]
    }
   ],
   "source": [
    "xgb_model = pickle.load(open('13_xgboost.sav', 'rb'))\n",
    "%timeit xgb_model.predict(spectra.iloc[0:4])"
   ]
  },
  {
   "cell_type": "code",
   "execution_count": 20,
   "id": "d69e620d-4bb2-4301-82be-f4c4f433be59",
   "metadata": {},
   "outputs": [
    {
     "name": "stdout",
     "output_type": "stream",
     "text": [
      "3.37 ms ± 82.7 µs per loop (mean ± std. dev. of 7 runs, 100 loops each)\n"
     ]
    }
   ],
   "source": [
    "%timeit mlp_model = pickle.load(open('13_multilayer_perceptron.sav', 'rb'))"
   ]
  },
  {
   "cell_type": "code",
   "execution_count": 21,
   "id": "5ef03e20-079d-44b6-865c-47a7ef509a5a",
   "metadata": {},
   "outputs": [
    {
     "name": "stdout",
     "output_type": "stream",
     "text": [
      "11 ms ± 49.4 µs per loop (mean ± std. dev. of 7 runs, 100 loops each)\n"
     ]
    }
   ],
   "source": [
    "mlp_model = pickle.load(open('13_multilayer_perceptron.sav', 'rb'))\n",
    "%timeit mlp_model.predict(spectra.iloc[0:4])"
   ]
  },
  {
   "cell_type": "code",
   "execution_count": 22,
   "id": "0e391aff-4cf1-4e0e-97cd-682bcf56cb34",
   "metadata": {},
   "outputs": [
    {
     "name": "stdout",
     "output_type": "stream",
     "text": [
      "1.86 s ± 14.4 ms per loop (mean ± std. dev. of 7 runs, 1 loop each)\n"
     ]
    }
   ],
   "source": [
    "%timeit rf_model = pickle.load(open('13_random_forest.sav', 'rb'))"
   ]
  },
  {
   "cell_type": "code",
   "execution_count": 23,
   "id": "4022a484-dec5-4e74-bdcd-fbbb251ba8df",
   "metadata": {},
   "outputs": [
    {
     "name": "stdout",
     "output_type": "stream",
     "text": [
      "29.6 ms ± 819 µs per loop (mean ± std. dev. of 7 runs, 10 loops each)\n"
     ]
    }
   ],
   "source": [
    "rf_model = pickle.load(open('13_random_forest.sav', 'rb'))\n",
    "%timeit rf_model.predict(spectra.iloc[0:4])"
   ]
  },
  {
   "cell_type": "code",
   "execution_count": null,
   "id": "9b59c499-41c8-4e0b-b121-5d164227486a",
   "metadata": {},
   "outputs": [],
   "source": []
  }
 ],
 "metadata": {
  "kernelspec": {
   "display_name": "Python 3 (ipykernel)",
   "language": "python",
   "name": "python3"
  },
  "language_info": {
   "codemirror_mode": {
    "name": "ipython",
    "version": 3
   },
   "file_extension": ".py",
   "mimetype": "text/x-python",
   "name": "python",
   "nbconvert_exporter": "python",
   "pygments_lexer": "ipython3",
   "version": "3.11.5"
  }
 },
 "nbformat": 4,
 "nbformat_minor": 5
}
