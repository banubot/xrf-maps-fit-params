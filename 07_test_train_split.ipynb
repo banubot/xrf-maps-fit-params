{
 "cells": [
  {
   "cell_type": "markdown",
   "id": "30754c64-5b65-4364-a141-199cd6cecec0",
   "metadata": {},
   "source": [
    "# 07 Test Train Split\n",
    "\n",
    "Data is split into a set for model training and a set for validation. \n",
    "This prevents the model from being validated with data it was trained with to minimize overfitting."
   ]
  },
  {
   "cell_type": "code",
   "execution_count": 8,
   "id": "88039cb2-905f-4067-98b1-f9439e3ee052",
   "metadata": {},
   "outputs": [],
   "source": [
    "import pandas as pd\n",
    "import numpy as np\n",
    "from sklearn.model_selection import ShuffleSplit"
   ]
  },
  {
   "cell_type": "code",
   "execution_count": 9,
   "id": "6c14666c-3951-4df3-bd95-66d5f4b768c0",
   "metadata": {},
   "outputs": [],
   "source": [
    "int_spectra = pd.read_csv('./training_data/06_int_spectra.csv', header=None)\n",
    "fit_params_standard = pd.read_csv('./training_data/06_fit_params_standard.csv')\n",
    "elements = pd.read_csv('./training_data/06_elements.csv')\n",
    "\n",
    "# fit and resize spectra are different lengths so they can't be put in a dataframe\n",
    "with open('./training_data/06_fit_spectra.csv') as f:\n",
    "    fit_spectra = f.readlines()\n",
    "with open('./training_data/06_resize_spectra.csv') as f:\n",
    "    resize_spectra = f.readlines()"
   ]
  },
  {
   "cell_type": "code",
   "execution_count": 10,
   "id": "e0aa8c83-c4de-49ec-a8d9-381b2ae9d370",
   "metadata": {},
   "outputs": [
    {
     "name": "stdout",
     "output_type": "stream",
     "text": [
      "33247\n",
      "33247\n",
      "33247\n",
      "33247\n",
      "33247\n"
     ]
    }
   ],
   "source": [
    "print(len(int_spectra))\n",
    "print(len(fit_spectra))\n",
    "print(len(resize_spectra))\n",
    "print(len(elements))\n",
    "print(len(fit_params_standard))\n",
    "# Sanity check all are the same length"
   ]
  },
  {
   "cell_type": "code",
   "execution_count": 11,
   "id": "38e9ef7b-e9d9-4338-b5d0-84e376d29ded",
   "metadata": {},
   "outputs": [],
   "source": [
    "x = int_spectra\n",
    "y = fit_params_standard\n",
    "shuffle_split = ShuffleSplit(n_splits=1, test_size=0.20)\n",
    "shuffle_split.get_n_splits(x, y)\n",
    "train_index, test_index = next(shuffle_split.split(x, y)) "
   ]
  },
  {
   "cell_type": "code",
   "execution_count": 12,
   "id": "9ff5edd0-1628-4ca7-ab8a-13232bf320c8",
   "metadata": {},
   "outputs": [],
   "source": [
    "filename = './training_data/07_train_int_spectra.csv'\n",
    "with open(filename, 'w') as f:      \n",
    "    for j in train_index:\n",
    "        row = int_spectra.iloc[j]\n",
    "        for k in range(len(row)):\n",
    "            f.write(str(row.iloc[k]))\n",
    "            if k < len(row) - 1:\n",
    "                f.write(',')\n",
    "        f.write('\\n')       \n",
    "\n",
    "filename = './training_data/07_test_int_spectra.csv'\n",
    "with open(filename, 'w') as f: \n",
    "    for j in test_index:\n",
    "        row = int_spectra.iloc[j]\n",
    "        for k in range(len(row)):\n",
    "            f.write(str(row.iloc[k]))\n",
    "            if k < len(row) - 1:\n",
    "                f.write(',')\n",
    "        f.write('\\n')      "
   ]
  },
  {
   "cell_type": "code",
   "execution_count": 13,
   "id": "4f33bc86-1730-46b8-affd-a24ef65c7ad5",
   "metadata": {},
   "outputs": [],
   "source": [
    "lines = [fit_spectra, resize_spectra]\n",
    "filenames = ['./training_data/07_train_fit_spectra.csv', \n",
    "             './training_data/07_train_resize_spectra.csv']\n",
    "for i in range(len(lines)):\n",
    "    with open(filenames[i], 'w') as f:      \n",
    "        for j in train_index:\n",
    "            f.write(lines[i][j])   \n",
    "\n",
    "filenames = ['./training_data/07_test_fit_spectra.csv', \n",
    "             './training_data/07_test_resize_spectra.csv']\n",
    "for i in range(len(lines)):\n",
    "    with open(filenames[i], 'w') as f:      \n",
    "        for j in test_index:\n",
    "            f.write(lines[i][j])   "
   ]
  },
  {
   "cell_type": "code",
   "execution_count": 14,
   "id": "0389b5ab-f060-4cd1-a032-c8323afabee3",
   "metadata": {},
   "outputs": [],
   "source": [
    "dataframes = [fit_params_standard, elements]\n",
    "filenames = ['./training_data/07_train_fit_params_standard.csv',\n",
    "             './training_data/07_train_elements.csv']\n",
    "for i in range(len(dataframes)):\n",
    "    df = dataframes[i]\n",
    "    with open(filenames[i], 'w') as f:\n",
    "        for j in range(len(df.columns)):\n",
    "            f.write(df.columns[j])\n",
    "            if j < len(df.columns) - 1:\n",
    "                f.write(',')\n",
    "        f.write('\\n')        \n",
    "        for j in train_index:\n",
    "            row = df.iloc[j]\n",
    "            for k in range(len(row)):\n",
    "                f.write(str(row.iloc[k]))\n",
    "                if k < len(row) - 1:\n",
    "                    f.write(',')\n",
    "            f.write('\\n')        \n",
    "\n",
    "filenames = ['./training_data/07_test_fit_params_standard.csv',\n",
    "             './training_data/07_test_elements.csv']\n",
    "for i in range(len(dataframes)):\n",
    "    df = dataframes[i]\n",
    "    with open(filenames[i], 'w') as f:\n",
    "        for j in range(len(df.columns)):\n",
    "            f.write(df.columns[j])\n",
    "            if j < len(df.columns) - 1:\n",
    "                f.write(',')\n",
    "        f.write('\\n')        \n",
    "        for j in test_index:\n",
    "            row = df.iloc[j]\n",
    "            for k in range(len(row)):\n",
    "                f.write(str(row.iloc[k]))\n",
    "                if k < len(row) - 1:\n",
    "                    f.write(',')\n",
    "            f.write('\\n')        "
   ]
  },
  {
   "cell_type": "code",
   "execution_count": null,
   "id": "ef54eb1c-6747-4a28-ad05-274430d80521",
   "metadata": {},
   "outputs": [],
   "source": []
  }
 ],
 "metadata": {
  "kernelspec": {
   "display_name": "Python 3 (ipykernel)",
   "language": "python",
   "name": "python3"
  },
  "language_info": {
   "codemirror_mode": {
    "name": "ipython",
    "version": 3
   },
   "file_extension": ".py",
   "mimetype": "text/x-python",
   "name": "python",
   "nbconvert_exporter": "python",
   "pygments_lexer": "ipython3",
   "version": "3.11.5"
  }
 },
 "nbformat": 4,
 "nbformat_minor": 5
}
