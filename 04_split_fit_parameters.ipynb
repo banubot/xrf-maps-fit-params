{
 "cells": [
  {
   "cell_type": "markdown",
   "id": "f391da36-a041-43da-bd8e-1398309411c1",
   "metadata": {},
   "source": [
    "# 04 Splitting the Fit Parameters\n",
    "\n",
    "Some of the fit parameters are constant across all experiments, so they do not need to be predicted. Here, the fit parameters are divided into those that are constant and those which need to be predicted."
   ]
  },
  {
   "cell_type": "code",
   "execution_count": 1,
   "id": "d5ec7354-1f20-4829-87f4-bb2321d44d03",
   "metadata": {},
   "outputs": [],
   "source": [
    "import pandas as pd"
   ]
  },
  {
   "cell_type": "code",
   "execution_count": 2,
   "id": "134eb320-e4a6-44b3-ac88-8bf8af25d85a",
   "metadata": {},
   "outputs": [],
   "source": [
    "df = pd.read_csv('./training_data/03_fit_params_standard.csv')"
   ]
  },
  {
   "cell_type": "code",
   "execution_count": 3,
   "id": "6ff73458-7bf3-47fc-a90a-43e062bd33eb",
   "metadata": {},
   "outputs": [],
   "source": [
    "params_to_predict_min = []\n",
    "params_to_predict_max = []\n",
    "params_to_predict_names = []\n",
    "params_constant_values = []\n",
    "params_constant_names = []\n",
    "for fit_param_name in df.columns:\n",
    "    param = df[fit_param_name]\n",
    "    param_min = min(param)\n",
    "    param_max = max(param)\n",
    "    if param_min == param_max:\n",
    "        params_constant_names.append(fit_param_name)\n",
    "        params_constant_values.append(param_min)\n",
    "    else:\n",
    "        params_to_predict_names.append(fit_param_name)\n",
    "        params_to_predict_min.append(param_min)\n",
    "        params_to_predict_max.append(param_max)"
   ]
  },
  {
   "cell_type": "code",
   "execution_count": 4,
   "id": "d1471cee-297c-464f-996a-f1d8ece66a81",
   "metadata": {},
   "outputs": [],
   "source": [
    "# Write the min and max values to a file\n",
    "filename = './training_data/04_fit_params_to_predict.csv'\n",
    "with open(filename, 'w') as f:\n",
    "    #write header\n",
    "    for i in range(len(params_to_predict_names)):\n",
    "        f.write(params_to_predict_names[i])\n",
    "        if i < len(params_to_predict_names) - 1:\n",
    "            f.write(',')\n",
    "    f.write('\\n')\n",
    "    for i in range(len(params_to_predict_min)):\n",
    "        f.write(str(params_to_predict_min[i]))\n",
    "        if i < len(params_to_predict_min) - 1:\n",
    "            f.write(',')\n",
    "    f.write('\\n')\n",
    "    for i in range(len(params_to_predict_max)):\n",
    "        f.write(str(params_to_predict_max[i]))\n",
    "        if i < len(params_to_predict_max) - 1:\n",
    "            f.write(',')"
   ]
  },
  {
   "cell_type": "code",
   "execution_count": 5,
   "id": "db0486de-16dc-4c25-8e94-de685d56df9c",
   "metadata": {},
   "outputs": [],
   "source": [
    "# Write the constant values to a file\n",
    "filename = './training_data/04_fit_params_constant.csv'\n",
    "with open(filename, 'w') as f:\n",
    "    #write header\n",
    "    for i in range(len(params_constant_names)):\n",
    "        f.write(params_constant_names[i])\n",
    "        if i < len(params_constant_names) - 1:\n",
    "            f.write(',')\n",
    "    f.write('\\n')\n",
    "    for i in range(len(params_constant_values)):\n",
    "        f.write(str(params_constant_values[i]))\n",
    "        if i < len(params_constant_values) - 1:\n",
    "            f.write(',')"
   ]
  },
  {
   "cell_type": "code",
   "execution_count": null,
   "id": "8188b0d6-07ef-48e7-820e-d71fe9276e86",
   "metadata": {},
   "outputs": [],
   "source": []
  }
 ],
 "metadata": {
  "kernelspec": {
   "display_name": "Python 3 (ipykernel)",
   "language": "python",
   "name": "python3"
  },
  "language_info": {
   "codemirror_mode": {
    "name": "ipython",
    "version": 3
   },
   "file_extension": ".py",
   "mimetype": "text/x-python",
   "name": "python",
   "nbconvert_exporter": "python",
   "pygments_lexer": "ipython3",
   "version": "3.11.5"
  }
 },
 "nbformat": 4,
 "nbformat_minor": 5
}
